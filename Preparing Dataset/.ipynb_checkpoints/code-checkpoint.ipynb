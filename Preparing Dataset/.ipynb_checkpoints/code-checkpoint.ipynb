{
 "cells": [
  {
   "cell_type": "markdown",
   "metadata": {},
   "source": [
    "# Project - Large Code Summarization"
   ]
  },
  {
   "cell_type": "markdown",
   "metadata": {},
   "source": [
    "### Data Pipeline"
   ]
  },
  {
   "cell_type": "code",
   "execution_count": 1,
   "metadata": {},
   "outputs": [
    {
     "name": "stdout",
     "output_type": "stream",
     "text": [
      "Collecting datasets\n",
      "  Downloading datasets-3.5.0-py3-none-any.whl.metadata (19 kB)\n",
      "Requirement already satisfied: filelock in c:\\users\\aarus\\anaconda3\\lib\\site-packages (from datasets) (3.13.1)\n",
      "Requirement already satisfied: numpy>=1.17 in c:\\users\\aarus\\anaconda3\\lib\\site-packages (from datasets) (1.26.4)\n",
      "Requirement already satisfied: pyarrow>=15.0.0 in c:\\users\\aarus\\anaconda3\\lib\\site-packages (from datasets) (16.1.0)\n",
      "Requirement already satisfied: dill<0.3.9,>=0.3.0 in c:\\users\\aarus\\anaconda3\\lib\\site-packages (from datasets) (0.3.8)\n",
      "Requirement already satisfied: pandas in c:\\users\\aarus\\anaconda3\\lib\\site-packages (from datasets) (2.2.2)\n",
      "Requirement already satisfied: requests>=2.32.2 in c:\\users\\aarus\\anaconda3\\lib\\site-packages (from datasets) (2.32.3)\n",
      "Requirement already satisfied: tqdm>=4.66.3 in c:\\users\\aarus\\anaconda3\\lib\\site-packages (from datasets) (4.66.5)\n",
      "Collecting xxhash (from datasets)\n",
      "  Downloading xxhash-3.5.0-cp312-cp312-win_amd64.whl.metadata (13 kB)\n",
      "Collecting multiprocess<0.70.17 (from datasets)\n",
      "  Downloading multiprocess-0.70.16-py312-none-any.whl.metadata (7.2 kB)\n",
      "Requirement already satisfied: fsspec<=2024.12.0,>=2023.1.0 in c:\\users\\aarus\\anaconda3\\lib\\site-packages (from fsspec[http]<=2024.12.0,>=2023.1.0->datasets) (2024.6.1)\n",
      "Requirement already satisfied: aiohttp in c:\\users\\aarus\\anaconda3\\lib\\site-packages (from datasets) (3.10.5)\n",
      "Collecting huggingface-hub>=0.24.0 (from datasets)\n",
      "  Downloading huggingface_hub-0.29.3-py3-none-any.whl.metadata (13 kB)\n",
      "Requirement already satisfied: packaging in c:\\users\\aarus\\anaconda3\\lib\\site-packages (from datasets) (24.1)\n",
      "Requirement already satisfied: pyyaml>=5.1 in c:\\users\\aarus\\anaconda3\\lib\\site-packages (from datasets) (6.0.1)\n",
      "Requirement already satisfied: aiohappyeyeballs>=2.3.0 in c:\\users\\aarus\\anaconda3\\lib\\site-packages (from aiohttp->datasets) (2.4.0)\n",
      "Requirement already satisfied: aiosignal>=1.1.2 in c:\\users\\aarus\\anaconda3\\lib\\site-packages (from aiohttp->datasets) (1.2.0)\n",
      "Requirement already satisfied: attrs>=17.3.0 in c:\\users\\aarus\\anaconda3\\lib\\site-packages (from aiohttp->datasets) (23.1.0)\n",
      "Requirement already satisfied: frozenlist>=1.1.1 in c:\\users\\aarus\\anaconda3\\lib\\site-packages (from aiohttp->datasets) (1.4.0)\n",
      "Requirement already satisfied: multidict<7.0,>=4.5 in c:\\users\\aarus\\anaconda3\\lib\\site-packages (from aiohttp->datasets) (6.0.4)\n",
      "Requirement already satisfied: yarl<2.0,>=1.0 in c:\\users\\aarus\\anaconda3\\lib\\site-packages (from aiohttp->datasets) (1.11.0)\n",
      "Requirement already satisfied: typing-extensions>=3.7.4.3 in c:\\users\\aarus\\anaconda3\\lib\\site-packages (from huggingface-hub>=0.24.0->datasets) (4.11.0)\n",
      "Requirement already satisfied: charset-normalizer<4,>=2 in c:\\users\\aarus\\anaconda3\\lib\\site-packages (from requests>=2.32.2->datasets) (3.3.2)\n",
      "Requirement already satisfied: idna<4,>=2.5 in c:\\users\\aarus\\anaconda3\\lib\\site-packages (from requests>=2.32.2->datasets) (3.7)\n",
      "Requirement already satisfied: urllib3<3,>=1.21.1 in c:\\users\\aarus\\anaconda3\\lib\\site-packages (from requests>=2.32.2->datasets) (2.2.3)\n",
      "Requirement already satisfied: certifi>=2017.4.17 in c:\\users\\aarus\\anaconda3\\lib\\site-packages (from requests>=2.32.2->datasets) (2024.8.30)\n",
      "Requirement already satisfied: colorama in c:\\users\\aarus\\anaconda3\\lib\\site-packages (from tqdm>=4.66.3->datasets) (0.4.6)\n",
      "Requirement already satisfied: python-dateutil>=2.8.2 in c:\\users\\aarus\\anaconda3\\lib\\site-packages (from pandas->datasets) (2.9.0.post0)\n",
      "Requirement already satisfied: pytz>=2020.1 in c:\\users\\aarus\\anaconda3\\lib\\site-packages (from pandas->datasets) (2024.1)\n",
      "Requirement already satisfied: tzdata>=2022.7 in c:\\users\\aarus\\anaconda3\\lib\\site-packages (from pandas->datasets) (2023.3)\n",
      "Requirement already satisfied: six>=1.5 in c:\\users\\aarus\\anaconda3\\lib\\site-packages (from python-dateutil>=2.8.2->pandas->datasets) (1.16.0)\n",
      "Downloading datasets-3.5.0-py3-none-any.whl (491 kB)\n",
      "Downloading huggingface_hub-0.29.3-py3-none-any.whl (468 kB)\n",
      "Downloading multiprocess-0.70.16-py312-none-any.whl (146 kB)\n",
      "Downloading xxhash-3.5.0-cp312-cp312-win_amd64.whl (30 kB)\n",
      "Installing collected packages: xxhash, multiprocess, huggingface-hub, datasets\n",
      "Successfully installed datasets-3.5.0 huggingface-hub-0.29.3 multiprocess-0.70.16 xxhash-3.5.0\n"
     ]
    }
   ],
   "source": [
    "!pip install datasets"
   ]
  },
  {
   "cell_type": "code",
   "execution_count": 3,
   "metadata": {},
   "outputs": [],
   "source": [
    "from datasets import load_dataset\n",
    "import pandas as pd\n",
    "import requests\n",
    "import re\n",
    "from tqdm import tqdm\n",
    "from pathlib import Path\n",
    "import matplotlib.pyplot as plt\n",
    "import seaborn as sns\n",
    "import numpy as np\n",
    "import json"
   ]
  },
  {
   "cell_type": "code",
   "execution_count": 4,
   "metadata": {},
   "outputs": [
    {
     "data": {
      "application/vnd.jupyter.widget-view+json": {
       "model_id": "de1aa9548c9e42a29acdbcac2e46d5e6",
       "version_major": 2,
       "version_minor": 0
      },
      "text/plain": [
       "README.md:   0%|          | 0.00/12.9k [00:00<?, ?B/s]"
      ]
     },
     "metadata": {},
     "output_type": "display_data"
    },
    {
     "name": "stderr",
     "output_type": "stream",
     "text": [
      "C:\\Users\\aarus\\anaconda3\\Lib\\site-packages\\huggingface_hub\\file_download.py:142: UserWarning: `huggingface_hub` cache-system uses symlinks by default to efficiently store duplicated files but your machine does not support them in C:\\Users\\aarus\\.cache\\huggingface\\hub\\datasets--code_search_net. Caching files will still work but in a degraded version that might require more space on your disk. This warning can be disabled by setting the `HF_HUB_DISABLE_SYMLINKS_WARNING` environment variable. For more details, see https://huggingface.co/docs/huggingface_hub/how-to-cache#limitations.\n",
      "To support symlinks on Windows, you either need to activate Developer Mode or to run Python as an administrator. In order to activate developer mode, see this article: https://docs.microsoft.com/en-us/windows/apps/get-started/enable-your-device-for-development\n",
      "  warnings.warn(message)\n"
     ]
    },
    {
     "data": {
      "application/vnd.jupyter.widget-view+json": {
       "model_id": "e590776aad264cc5ac6da36106a2fdfc",
       "version_major": 2,
       "version_minor": 0
      },
      "text/plain": [
       "code_search_net.py:   0%|          | 0.00/8.44k [00:00<?, ?B/s]"
      ]
     },
     "metadata": {},
     "output_type": "display_data"
    },
    {
     "data": {
      "application/vnd.jupyter.widget-view+json": {
       "model_id": "dfc6eb95759749728116410d37bd20bf",
       "version_major": 2,
       "version_minor": 0
      },
      "text/plain": [
       "python.zip:   0%|          | 0.00/941M [00:00<?, ?B/s]"
      ]
     },
     "metadata": {},
     "output_type": "display_data"
    },
    {
     "data": {
      "application/vnd.jupyter.widget-view+json": {
       "model_id": "31354cd0fdd14574837bd42aecc047bb",
       "version_major": 2,
       "version_minor": 0
      },
      "text/plain": [
       "Generating train split:   0%|          | 0/412178 [00:00<?, ? examples/s]"
      ]
     },
     "metadata": {},
     "output_type": "display_data"
    },
    {
     "data": {
      "application/vnd.jupyter.widget-view+json": {
       "model_id": "f794e11d6d6d473ebe74b93eeec09d24",
       "version_major": 2,
       "version_minor": 0
      },
      "text/plain": [
       "Generating test split:   0%|          | 0/22176 [00:00<?, ? examples/s]"
      ]
     },
     "metadata": {},
     "output_type": "display_data"
    },
    {
     "data": {
      "application/vnd.jupyter.widget-view+json": {
       "model_id": "86b3907091cb4f3fa3562d8dd3cbe473",
       "version_major": 2,
       "version_minor": 0
      },
      "text/plain": [
       "Generating validation split:   0%|          | 0/23107 [00:00<?, ? examples/s]"
      ]
     },
     "metadata": {},
     "output_type": "display_data"
    }
   ],
   "source": [
    "# Load the CodeSearchNet dataset (you can change the split as per your need)\n",
    "ds = load_dataset(\"code_search_net\", 'python', split='test', trust_remote_code=True)\n",
    "df = ds.to_pandas()"
   ]
  },
  {
   "cell_type": "code",
   "execution_count": 9,
   "metadata": {},
   "outputs": [
    {
     "data": {
      "text/html": [
       "<div>\n",
       "<style scoped>\n",
       "    .dataframe tbody tr th:only-of-type {\n",
       "        vertical-align: middle;\n",
       "    }\n",
       "\n",
       "    .dataframe tbody tr th {\n",
       "        vertical-align: top;\n",
       "    }\n",
       "\n",
       "    .dataframe thead th {\n",
       "        text-align: right;\n",
       "    }\n",
       "</style>\n",
       "<table border=\"1\" class=\"dataframe\">\n",
       "  <thead>\n",
       "    <tr style=\"text-align: right;\">\n",
       "      <th></th>\n",
       "      <th>repository_name</th>\n",
       "      <th>func_path_in_repository</th>\n",
       "      <th>func_name</th>\n",
       "      <th>whole_func_string</th>\n",
       "      <th>language</th>\n",
       "      <th>func_code_string</th>\n",
       "      <th>func_code_tokens</th>\n",
       "      <th>func_documentation_string</th>\n",
       "      <th>func_documentation_tokens</th>\n",
       "      <th>split_name</th>\n",
       "      <th>func_code_url</th>\n",
       "    </tr>\n",
       "  </thead>\n",
       "  <tbody>\n",
       "    <tr>\n",
       "      <th>0</th>\n",
       "      <td>soimort/you-get</td>\n",
       "      <td>src/you_get/extractors/youtube.py</td>\n",
       "      <td>YouTube.get_vid_from_url</td>\n",
       "      <td>def get_vid_from_url(url):\\n        \"\"\"Extract...</td>\n",
       "      <td>python</td>\n",
       "      <td>def get_vid_from_url(url):\\n        \"\"\"Extract...</td>\n",
       "      <td>[def, get_vid_from_url, (, url, ), :, return, ...</td>\n",
       "      <td>Extracts video ID from URL.</td>\n",
       "      <td>[Extracts, video, ID, from, URL, .]</td>\n",
       "      <td>test</td>\n",
       "      <td>https://github.com/soimort/you-get/blob/b746ac...</td>\n",
       "    </tr>\n",
       "    <tr>\n",
       "      <th>1</th>\n",
       "      <td>soimort/you-get</td>\n",
       "      <td>src/you_get/extractors/miomio.py</td>\n",
       "      <td>sina_xml_to_url_list</td>\n",
       "      <td>def sina_xml_to_url_list(xml_data):\\n    \"\"\"st...</td>\n",
       "      <td>python</td>\n",
       "      <td>def sina_xml_to_url_list(xml_data):\\n    \"\"\"st...</td>\n",
       "      <td>[def, sina_xml_to_url_list, (, xml_data, ), :,...</td>\n",
       "      <td>str-&gt;list\\n    Convert XML to URL List.\\n    F...</td>\n",
       "      <td>[str, -, &gt;, list, Convert, XML, to, URL, List,...</td>\n",
       "      <td>test</td>\n",
       "      <td>https://github.com/soimort/you-get/blob/b746ac...</td>\n",
       "    </tr>\n",
       "    <tr>\n",
       "      <th>2</th>\n",
       "      <td>soimort/you-get</td>\n",
       "      <td>src/you_get/extractors/fc2video.py</td>\n",
       "      <td>makeMimi</td>\n",
       "      <td>def makeMimi(upid):\\n    \"\"\"From http://cdn37....</td>\n",
       "      <td>python</td>\n",
       "      <td>def makeMimi(upid):\\n    \"\"\"From http://cdn37....</td>\n",
       "      <td>[def, makeMimi, (, upid, ), :, strSeed, =, \"gG...</td>\n",
       "      <td>From http://cdn37.atwikiimg.com/sitescript/pub...</td>\n",
       "      <td>[From, http, :, //, cdn37, ., atwikiimg, ., co...</td>\n",
       "      <td>test</td>\n",
       "      <td>https://github.com/soimort/you-get/blob/b746ac...</td>\n",
       "    </tr>\n",
       "    <tr>\n",
       "      <th>3</th>\n",
       "      <td>soimort/you-get</td>\n",
       "      <td>src/you_get/extractors/fc2video.py</td>\n",
       "      <td>fc2video_download</td>\n",
       "      <td>def fc2video_download(url, output_dir = '.', m...</td>\n",
       "      <td>python</td>\n",
       "      <td>def fc2video_download(url, output_dir = '.', m...</td>\n",
       "      <td>[def, fc2video_download, (, url, ,, output_dir...</td>\n",
       "      <td>wrapper</td>\n",
       "      <td>[wrapper]</td>\n",
       "      <td>test</td>\n",
       "      <td>https://github.com/soimort/you-get/blob/b746ac...</td>\n",
       "    </tr>\n",
       "    <tr>\n",
       "      <th>4</th>\n",
       "      <td>soimort/you-get</td>\n",
       "      <td>src/you_get/extractors/dailymotion.py</td>\n",
       "      <td>dailymotion_download</td>\n",
       "      <td>def dailymotion_download(url, output_dir='.', ...</td>\n",
       "      <td>python</td>\n",
       "      <td>def dailymotion_download(url, output_dir='.', ...</td>\n",
       "      <td>[def, dailymotion_download, (, url, ,, output_...</td>\n",
       "      <td>Downloads Dailymotion videos by URL.</td>\n",
       "      <td>[Downloads, Dailymotion, videos, by, URL, .]</td>\n",
       "      <td>test</td>\n",
       "      <td>https://github.com/soimort/you-get/blob/b746ac...</td>\n",
       "    </tr>\n",
       "  </tbody>\n",
       "</table>\n",
       "</div>"
      ],
      "text/plain": [
       "   repository_name                func_path_in_repository  \\\n",
       "0  soimort/you-get      src/you_get/extractors/youtube.py   \n",
       "1  soimort/you-get       src/you_get/extractors/miomio.py   \n",
       "2  soimort/you-get     src/you_get/extractors/fc2video.py   \n",
       "3  soimort/you-get     src/you_get/extractors/fc2video.py   \n",
       "4  soimort/you-get  src/you_get/extractors/dailymotion.py   \n",
       "\n",
       "                  func_name  \\\n",
       "0  YouTube.get_vid_from_url   \n",
       "1      sina_xml_to_url_list   \n",
       "2                  makeMimi   \n",
       "3         fc2video_download   \n",
       "4      dailymotion_download   \n",
       "\n",
       "                                   whole_func_string language  \\\n",
       "0  def get_vid_from_url(url):\\n        \"\"\"Extract...   python   \n",
       "1  def sina_xml_to_url_list(xml_data):\\n    \"\"\"st...   python   \n",
       "2  def makeMimi(upid):\\n    \"\"\"From http://cdn37....   python   \n",
       "3  def fc2video_download(url, output_dir = '.', m...   python   \n",
       "4  def dailymotion_download(url, output_dir='.', ...   python   \n",
       "\n",
       "                                    func_code_string  \\\n",
       "0  def get_vid_from_url(url):\\n        \"\"\"Extract...   \n",
       "1  def sina_xml_to_url_list(xml_data):\\n    \"\"\"st...   \n",
       "2  def makeMimi(upid):\\n    \"\"\"From http://cdn37....   \n",
       "3  def fc2video_download(url, output_dir = '.', m...   \n",
       "4  def dailymotion_download(url, output_dir='.', ...   \n",
       "\n",
       "                                    func_code_tokens  \\\n",
       "0  [def, get_vid_from_url, (, url, ), :, return, ...   \n",
       "1  [def, sina_xml_to_url_list, (, xml_data, ), :,...   \n",
       "2  [def, makeMimi, (, upid, ), :, strSeed, =, \"gG...   \n",
       "3  [def, fc2video_download, (, url, ,, output_dir...   \n",
       "4  [def, dailymotion_download, (, url, ,, output_...   \n",
       "\n",
       "                           func_documentation_string  \\\n",
       "0                        Extracts video ID from URL.   \n",
       "1  str->list\\n    Convert XML to URL List.\\n    F...   \n",
       "2  From http://cdn37.atwikiimg.com/sitescript/pub...   \n",
       "3                                            wrapper   \n",
       "4               Downloads Dailymotion videos by URL.   \n",
       "\n",
       "                           func_documentation_tokens split_name  \\\n",
       "0                [Extracts, video, ID, from, URL, .]       test   \n",
       "1  [str, -, >, list, Convert, XML, to, URL, List,...       test   \n",
       "2  [From, http, :, //, cdn37, ., atwikiimg, ., co...       test   \n",
       "3                                          [wrapper]       test   \n",
       "4       [Downloads, Dailymotion, videos, by, URL, .]       test   \n",
       "\n",
       "                                       func_code_url  \n",
       "0  https://github.com/soimort/you-get/blob/b746ac...  \n",
       "1  https://github.com/soimort/you-get/blob/b746ac...  \n",
       "2  https://github.com/soimort/you-get/blob/b746ac...  \n",
       "3  https://github.com/soimort/you-get/blob/b746ac...  \n",
       "4  https://github.com/soimort/you-get/blob/b746ac...  "
      ]
     },
     "execution_count": 9,
     "metadata": {},
     "output_type": "execute_result"
    }
   ],
   "source": [
    "df.head()"
   ]
  },
  {
   "cell_type": "code",
   "execution_count": 13,
   "metadata": {},
   "outputs": [
    {
     "name": "stdout",
     "output_type": "stream",
     "text": [
      "def get_vid_from_url(url):\n",
      "        \"\"\"Extracts video ID from URL.\n",
      "        \"\"\"\n",
      "        return match1(url, r'youtu\\.be/([^?/]+)') or \\\n",
      "          match1(url, r'youtube\\.com/embed/([^/?]+)') or \\\n",
      "          match1(url, r'youtube\\.com/v/([^/?]+)') or \\\n",
      "          match1(url, r'youtube\\.com/watch/([^/?]+)') or \\\n",
      "          parse_query_param(url, 'v') or \\\n",
      "          parse_query_param(parse_query_param(url, 'u'), 'v')\n"
     ]
    }
   ],
   "source": [
    "print(df['whole_func_string'][0])"
   ]
  },
  {
   "cell_type": "code",
   "execution_count": 17,
   "metadata": {},
   "outputs": [
    {
     "name": "stdout",
     "output_type": "stream",
     "text": [
      "def get_vid_from_url(url):\n",
      "        \"\"\"Extracts video ID from URL.\n",
      "        \"\"\"\n",
      "        return match1(url, r'youtu\\.be/([^?/]+)') or \\\n",
      "          match1(url, r'youtube\\.com/embed/([^/?]+)') or \\\n",
      "          match1(url, r'youtube\\.com/v/([^/?]+)') or \\\n",
      "          match1(url, r'youtube\\.com/watch/([^/?]+)') or \\\n",
      "          parse_query_param(url, 'v') or \\\n",
      "          parse_query_param(parse_query_param(url, 'u'), 'v')\n"
     ]
    }
   ],
   "source": [
    "print(df['func_code_string'][0])"
   ]
  },
  {
   "cell_type": "code",
   "execution_count": 21,
   "metadata": {},
   "outputs": [
    {
     "data": {
      "text/plain": [
       "array(['def', 'get_vid_from_url', '(', 'url', ')', ':', 'return',\n",
       "       'match1', '(', 'url', ',', \"r'youtu\\\\.be/([^?/]+)'\", ')', 'or',\n",
       "       'match1', '(', 'url', ',', \"r'youtube\\\\.com/embed/([^/?]+)'\", ')',\n",
       "       'or', 'match1', '(', 'url', ',', \"r'youtube\\\\.com/v/([^/?]+)'\",\n",
       "       ')', 'or', 'match1', '(', 'url', ',',\n",
       "       \"r'youtube\\\\.com/watch/([^/?]+)'\", ')', 'or', 'parse_query_param',\n",
       "       '(', 'url', ',', \"'v'\", ')', 'or', 'parse_query_param', '(',\n",
       "       'parse_query_param', '(', 'url', ',', \"'u'\", ')', ',', \"'v'\", ')'],\n",
       "      dtype=object)"
      ]
     },
     "execution_count": 21,
     "metadata": {},
     "output_type": "execute_result"
    }
   ],
   "source": [
    "df['func_code_tokens'][0]"
   ]
  },
  {
   "cell_type": "code",
   "execution_count": 23,
   "metadata": {},
   "outputs": [
    {
     "data": {
      "text/plain": [
       "array(['test'], dtype=object)"
      ]
     },
     "execution_count": 23,
     "metadata": {},
     "output_type": "execute_result"
    }
   ],
   "source": [
    "df['split_name'].unique()"
   ]
  },
  {
   "cell_type": "code",
   "execution_count": 25,
   "metadata": {},
   "outputs": [
    {
     "name": "stderr",
     "output_type": "stream",
     "text": [
      "<>:10: SyntaxWarning: invalid escape sequence '\\s'\n",
      "<>:10: SyntaxWarning: invalid escape sequence '\\s'\n",
      "C:\\Users\\aarus\\AppData\\Local\\Temp\\ipykernel_33272\\1294899574.py:10: SyntaxWarning: invalid escape sequence '\\s'\n",
      "  return re.sub('\\s+', ' ', summary)\n"
     ]
    }
   ],
   "source": [
    "# Clean docstring\n",
    "def extract_summary(docstring):\n",
    "    patterns_to_remove = [\n",
    "        r':param.*$', r':return.*$', r':type.*$', r':rtype.*$', r'Args:.*$', r'Parameters.*$', r'>>>.*$', \n",
    "        r'\\* .*$', r'The return type is.*$', r'https?://.*$', r':?Examples?.*$', r'Returns.*$', r'\\.\\.\\.?.*$', \n",
    "        r'NOTE.*', r'See Also.*$', r'Links.*$', r'Raises.*$', r'\\s\\w+:.*$',\n",
    "    ]\n",
    "    pattern = re.compile(r'({})'.format('|'.join(patterns_to_remove)), re.MULTILINE | re.DOTALL)\n",
    "    summary = pattern.sub('', docstring).strip()\n",
    "    return re.sub('\\s+', ' ', summary)"
   ]
  },
  {
   "cell_type": "code",
   "execution_count": 27,
   "metadata": {},
   "outputs": [
    {
     "name": "stdout",
     "output_type": "stream",
     "text": [
      "Index(['repository_name', 'func_path_in_repository', 'func_name',\n",
      "       'whole_func_string', 'language', 'func_code_string', 'func_code_tokens',\n",
      "       'func_documentation_string', 'func_documentation_tokens', 'split_name',\n",
      "       'func_code_url'],\n",
      "      dtype='object')\n"
     ]
    }
   ],
   "source": [
    "print(df.columns)"
   ]
  },
  {
   "cell_type": "code",
   "execution_count": 29,
   "metadata": {},
   "outputs": [
    {
     "name": "stderr",
     "output_type": "stream",
     "text": [
      "100%|█████████████████████████████████████████████████████████████████████████| 22176/22176 [00:00<00:00, 71323.54it/s]\n"
     ]
    }
   ],
   "source": [
    "from tqdm import tqdm\n",
    "tqdm.pandas() \n",
    "# Apply docstring cleaning\n",
    "df['method_summary'] = df['func_documentation_string'].progress_apply(extract_summary)"
   ]
  },
  {
   "cell_type": "code",
   "execution_count": 33,
   "metadata": {},
   "outputs": [
    {
     "data": {
      "text/plain": [
       "'str->list Convert XML to URL List. From Biligrab.'"
      ]
     },
     "execution_count": 33,
     "metadata": {},
     "output_type": "execute_result"
    }
   ],
   "source": [
    "df['method_summary'][1]"
   ]
  },
  {
   "cell_type": "code",
   "execution_count": 39,
   "metadata": {},
   "outputs": [
    {
     "data": {
      "text/plain": [
       "'str->list\\n    Convert XML to URL List.\\n    From Biligrab.'"
      ]
     },
     "execution_count": 39,
     "metadata": {},
     "output_type": "execute_result"
    }
   ],
   "source": [
    "df['func_documentation_string'][1]"
   ]
  },
  {
   "cell_type": "code",
   "execution_count": 65,
   "metadata": {},
   "outputs": [
    {
     "data": {
      "text/plain": [
       "0"
      ]
     },
     "execution_count": 65,
     "metadata": {},
     "output_type": "execute_result"
    }
   ],
   "source": [
    "df['method_summary'].str.len().min()"
   ]
  },
  {
   "cell_type": "code",
   "execution_count": 47,
   "metadata": {},
   "outputs": [
    {
     "data": {
      "text/plain": [
       "2242"
      ]
     },
     "execution_count": 47,
     "metadata": {},
     "output_type": "execute_result"
    }
   ],
   "source": [
    "df['method_summary'].str.len().max()"
   ]
  },
  {
   "cell_type": "code",
   "execution_count": 49,
   "metadata": {},
   "outputs": [
    {
     "data": {
      "text/plain": [
       "(22176, 12)"
      ]
     },
     "execution_count": 49,
     "metadata": {},
     "output_type": "execute_result"
    }
   ],
   "source": [
    "df.shape"
   ]
  },
  {
   "cell_type": "code",
   "execution_count": 57,
   "metadata": {},
   "outputs": [
    {
     "name": "stdout",
     "output_type": "stream",
     "text": [
      "5              http://stackoverflow.com/a/30923963/2946714\n",
      "53       Returns and flush the event buffer. In case da...\n",
      "56                   Returns a snowflake.connection object\n",
      "66                       Returns a mysql connection object\n",
      "72       Returns the unmet dependencies for a task inst...\n",
      "                               ...                        \n",
      "21998                            Returns a Solver instance\n",
      "22035    Returns whether a reply from the kernel origin...\n",
      "22168    Returns a unique ID of a given length.\\n    Us...\n",
      "22174                 Returns domain name portion of a URL\n",
      "22175               Returns a dictionary from a URL params\n",
      "Name: func_documentation_string, Length: 1345, dtype: object\n"
     ]
    }
   ],
   "source": [
    "empty = df[df['method_summary'].str.len() == 0]\n",
    "print(empty['func_documentation_string'])"
   ]
  },
  {
   "cell_type": "code",
   "execution_count": 67,
   "metadata": {},
   "outputs": [
    {
     "data": {
      "text/plain": [
       "(1345, 12)"
      ]
     },
     "execution_count": 67,
     "metadata": {},
     "output_type": "execute_result"
    }
   ],
   "source": [
    "empty.shape"
   ]
  },
  {
   "cell_type": "code",
   "execution_count": 71,
   "metadata": {},
   "outputs": [
    {
     "data": {
      "text/plain": [
       "''"
      ]
     },
     "execution_count": 71,
     "metadata": {},
     "output_type": "execute_result"
    }
   ],
   "source": [
    "empty['method_summary'][53]"
   ]
  },
  {
   "cell_type": "code",
   "execution_count": 77,
   "metadata": {},
   "outputs": [
    {
     "data": {
      "text/plain": [
       "'Returns and flush the event buffer. In case dag_ids is specified\\n        it will only return and flush events for the given dag_ids. Otherwise\\n        it returns and flushes all\\n\\n        :param dag_ids: to dag_ids to return events for, if None returns all\\n        :return: a dict of events'"
      ]
     },
     "execution_count": 77,
     "metadata": {},
     "output_type": "execute_result"
    }
   ],
   "source": [
    "empty['func_documentation_string'][53]"
   ]
  },
  {
   "cell_type": "code",
   "execution_count": 79,
   "metadata": {},
   "outputs": [
    {
     "name": "stdout",
     "output_type": "stream",
     "text": [
      "(18633, 12)\n"
     ]
    }
   ],
   "source": [
    "filtered_df = df[(10 < df['method_summary'].str.len()) & (df['method_summary'].str.len() < 200)]\n",
    "print(filtered_df.shape)"
   ]
  },
  {
   "cell_type": "code",
   "execution_count": 81,
   "metadata": {},
   "outputs": [],
   "source": [
    "grouped_df = filtered_df.groupby('repository_name')['method_summary'].count().reset_index(name='count')\n",
    "grouped_df = grouped_df[grouped_df['count'] > 50]"
   ]
  },
  {
   "cell_type": "code",
   "execution_count": 83,
   "metadata": {},
   "outputs": [
    {
     "data": {
      "text/html": [
       "<div>\n",
       "<style scoped>\n",
       "    .dataframe tbody tr th:only-of-type {\n",
       "        vertical-align: middle;\n",
       "    }\n",
       "\n",
       "    .dataframe tbody tr th {\n",
       "        vertical-align: top;\n",
       "    }\n",
       "\n",
       "    .dataframe thead th {\n",
       "        text-align: right;\n",
       "    }\n",
       "</style>\n",
       "<table border=\"1\" class=\"dataframe\">\n",
       "  <thead>\n",
       "    <tr style=\"text-align: right;\">\n",
       "      <th></th>\n",
       "      <th>repository_name</th>\n",
       "      <th>count</th>\n",
       "    </tr>\n",
       "  </thead>\n",
       "  <tbody>\n",
       "    <tr>\n",
       "      <th>0</th>\n",
       "      <td>20tab/twentytab-treeeditor</td>\n",
       "      <td>9</td>\n",
       "    </tr>\n",
       "    <tr>\n",
       "      <th>1</th>\n",
       "      <td>3DLIRIOUS/MeshLabXML</td>\n",
       "      <td>88</td>\n",
       "    </tr>\n",
       "    <tr>\n",
       "      <th>2</th>\n",
       "      <td>4degrees/riffle</td>\n",
       "      <td>34</td>\n",
       "    </tr>\n",
       "    <tr>\n",
       "      <th>3</th>\n",
       "      <td>5j9/wikitextparser</td>\n",
       "      <td>39</td>\n",
       "    </tr>\n",
       "    <tr>\n",
       "      <th>4</th>\n",
       "      <td>5monkeys/django-bananas</td>\n",
       "      <td>25</td>\n",
       "    </tr>\n",
       "  </tbody>\n",
       "</table>\n",
       "</div>"
      ],
      "text/plain": [
       "              repository_name  count\n",
       "0  20tab/twentytab-treeeditor      9\n",
       "1        3DLIRIOUS/MeshLabXML     88\n",
       "2             4degrees/riffle     34\n",
       "3          5j9/wikitextparser     39\n",
       "4     5monkeys/django-bananas     25"
      ]
     },
     "execution_count": 83,
     "metadata": {},
     "output_type": "execute_result"
    }
   ],
   "source": [
    "grouped_df.head()"
   ]
  },
  {
   "cell_type": "code",
   "execution_count": 85,
   "metadata": {},
   "outputs": [
    {
     "data": {
      "text/plain": [
       "(653, 2)"
      ]
     },
     "execution_count": 85,
     "metadata": {},
     "output_type": "execute_result"
    }
   ],
   "source": [
    "grouped_df.shape"
   ]
  },
  {
   "cell_type": "code",
   "execution_count": 91,
   "metadata": {},
   "outputs": [],
   "source": [
    "grouped_df = grouped_df[grouped_df['count'] > 50]"
   ]
  },
  {
   "cell_type": "code",
   "execution_count": 93,
   "metadata": {},
   "outputs": [
    {
     "data": {
      "text/plain": [
       "(72, 2)"
      ]
     },
     "execution_count": 93,
     "metadata": {},
     "output_type": "execute_result"
    }
   ],
   "source": [
    "grouped_df.shape"
   ]
  },
  {
   "cell_type": "code",
   "execution_count": 95,
   "metadata": {},
   "outputs": [],
   "source": [
    "best_repos = list(grouped_df['repository_name'])\n",
    "selected_df = filtered_df[filtered_df['repository_name'].isin(best_repos)]"
   ]
  },
  {
   "cell_type": "code",
   "execution_count": 97,
   "metadata": {},
   "outputs": [
    {
     "data": {
      "text/plain": [
       "(11990, 12)"
      ]
     },
     "execution_count": 97,
     "metadata": {},
     "output_type": "execute_result"
    }
   ],
   "source": [
    "selected_df.shape"
   ]
  },
  {
   "cell_type": "code",
   "execution_count": 99,
   "metadata": {},
   "outputs": [],
   "source": [
    "# Remove docstrings and comments from code\n",
    "def remove_docstrings(code):\n",
    "    docstrings = re.findall(r\"'''(.*?)'''\", code, re.DOTALL) + re.findall(r'\"\"\"(.*?)\"\"\"', code, re.DOTALL)\n",
    "    for docstring in docstrings:\n",
    "        code = code.replace(docstring, '')\n",
    "    return code"
   ]
  },
  {
   "cell_type": "code",
   "execution_count": 101,
   "metadata": {},
   "outputs": [],
   "source": [
    "def remove_comments(code):\n",
    "    pattern = r\"(\\\".*?\\\"|\\'.*?\\')|(#[^\\r\\n]*$)\"\n",
    "    regex = re.compile(pattern, re.MULTILINE | re.DOTALL)\n",
    "    def _replacer(match):\n",
    "        if match.group(2) is not None:\n",
    "            return \"\"  # remove comment\n",
    "        return match.group(1)  # keep string\n",
    "    return regex.sub(_replacer, code)"
   ]
  },
  {
   "cell_type": "code",
   "execution_count": 103,
   "metadata": {},
   "outputs": [
    {
     "name": "stdout",
     "output_type": "stream",
     "text": [
      "Index(['repository_name', 'func_path_in_repository', 'func_name',\n",
      "       'whole_func_string', 'language', 'func_code_string', 'func_code_tokens',\n",
      "       'func_documentation_string', 'func_documentation_tokens', 'split_name',\n",
      "       'func_code_url', 'method_summary'],\n",
      "      dtype='object')\n"
     ]
    }
   ],
   "source": [
    "print(selected_df.columns)"
   ]
  },
  {
   "cell_type": "code",
   "execution_count": 105,
   "metadata": {},
   "outputs": [
    {
     "name": "stderr",
     "output_type": "stream",
     "text": [
      "C:\\Users\\aarus\\AppData\\Local\\Temp\\ipykernel_33272\\3615263855.py:2: SettingWithCopyWarning: \n",
      "A value is trying to be set on a copy of a slice from a DataFrame.\n",
      "Try using .loc[row_indexer,col_indexer] = value instead\n",
      "\n",
      "See the caveats in the documentation: https://pandas.pydata.org/pandas-docs/stable/user_guide/indexing.html#returning-a-view-versus-a-copy\n",
      "  selected_df['method_code'] = selected_df['func_code_string'].apply(remove_docstrings)\n",
      "C:\\Users\\aarus\\AppData\\Local\\Temp\\ipykernel_33272\\3615263855.py:3: SettingWithCopyWarning: \n",
      "A value is trying to be set on a copy of a slice from a DataFrame.\n",
      "Try using .loc[row_indexer,col_indexer] = value instead\n",
      "\n",
      "See the caveats in the documentation: https://pandas.pydata.org/pandas-docs/stable/user_guide/indexing.html#returning-a-view-versus-a-copy\n",
      "  selected_df['method_code'] = selected_df['method_code'].apply(remove_comments)\n"
     ]
    }
   ],
   "source": [
    "# Apply removal of docstrings and comments\n",
    "selected_df['method_code'] = selected_df['func_code_string'].apply(remove_docstrings)\n",
    "selected_df['method_code'] = selected_df['method_code'].apply(remove_comments)"
   ]
  },
  {
   "cell_type": "code",
   "execution_count": 113,
   "metadata": {},
   "outputs": [
    {
     "data": {
      "text/plain": [
       "'Checks if a task is either queued or running in this executor\\n\\n        :param task_instance: TaskInstance\\n        :return: True if the task is known to this executor'"
      ]
     },
     "execution_count": 113,
     "metadata": {},
     "output_type": "execute_result"
    }
   ],
   "source": [
    "df['func_documentation_string'][52]"
   ]
  },
  {
   "cell_type": "code",
   "execution_count": 111,
   "metadata": {},
   "outputs": [
    {
     "data": {
      "text/plain": [
       "'Checks if a task is either queued or running in this executor'"
      ]
     },
     "execution_count": 111,
     "metadata": {},
     "output_type": "execute_result"
    }
   ],
   "source": [
    "selected_df['method_summary'][52]"
   ]
  },
  {
   "cell_type": "code",
   "execution_count": 115,
   "metadata": {},
   "outputs": [],
   "source": [
    "final_df = selected_df[['repository_name', 'func_name', 'method_code', 'method_summary', 'whole_func_string', 'func_code_url']]\n",
    "final_df = final_df.rename(columns={\n",
    "    'repository_name': 'repo_name', \n",
    "    'func_name': 'method_name', \n",
    "    'whole_func_string': 'original_method_code', \n",
    "    'func_code_url': 'method_path'\n",
    "}).reset_index(drop=True)"
   ]
  },
  {
   "cell_type": "code",
   "execution_count": 117,
   "metadata": {},
   "outputs": [],
   "source": [
    "# Split into few-shot and evaluation datasets\n",
    "fewshot_df = final_df.groupby('repo_name').head(10).reset_index(drop=True)\n",
    "eval_df = final_df[~final_df.index.isin(fewshot_df.index)]"
   ]
  },
  {
   "cell_type": "code",
   "execution_count": 119,
   "metadata": {},
   "outputs": [],
   "source": [
    "# Save to JSONL files\n",
    "DATA_DIR = Path('data/preprocessed')\n",
    "eval_df.to_json(DATA_DIR / 'method-level-mcsn.jsonl', orient='records', lines=True)\n",
    "fewshot_df.to_json(DATA_DIR / 'method-level-mcsn-few-shot.jsonl', orient='records', lines=True)"
   ]
  },
  {
   "cell_type": "code",
   "execution_count": 121,
   "metadata": {},
   "outputs": [
    {
     "data": {
      "image/png": "[encoded data removed]",
      "text/plain": [
       "<Figure size 1000x600 with 1 Axes>"
      ]
     },
     "metadata": {},
     "output_type": "display_data"
    }
   ],
   "source": [
    "# EDA: Distribution of method summary lengths\n",
    "tdf = final_df.copy()\n",
    "tdf['method_summary_length'] = tdf['method_summary'].str.len()\n",
    "\n",
    "plt.figure(figsize=(10, 6))\n",
    "sns.histplot(data=tdf, x='method_summary_length', bins=100, kde=True, color='green')\n",
    "plt.xlabel('Length')\n",
    "plt.xticks(np.arange(0, 210, 10))\n",
    "plt.ylabel('Frequency')\n",
    "plt.show()"
   ]
  },
  {
   "cell_type": "code",
   "execution_count": null,
   "metadata": {},
   "outputs": [],
   "source": []
  }
 ],
 "metadata": {
  "kernelspec": {
   "display_name": "Python 3 (ipykernel)",
   "language": "python",
   "name": "python3"
  },
  "language_info": {
   "codemirror_mode": {
    "name": "ipython",
    "version": 3
   },
   "file_extension": ".py",
   "mimetype": "text/x-python",
   "name": "python",
   "nbconvert_exporter": "python",
   "pygments_lexer": "ipython3",
   "version": "3.12.7"
  }
 },
 "nbformat": 4,
 "nbformat_minor": 4
}
