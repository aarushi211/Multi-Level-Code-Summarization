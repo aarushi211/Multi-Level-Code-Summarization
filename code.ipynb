{
 "cells": [
  {
   "cell_type": "markdown",
   "metadata": {},
   "source": [
    "# Project - Large Code Summarization"
   ]
  },
  {
   "cell_type": "markdown",
   "metadata": {},
   "source": [
    "### Data Pipeline"
   ]
  },
  {
   "cell_type": "code",
   "execution_count": 2,
   "metadata": {},
   "outputs": [
    {
     "name": "stdout",
     "output_type": "stream",
     "text": [
      "Requirement already satisfied: datasets in c:\\users\\ayush\\appdata\\local\\programs\\python\\python312\\lib\\site-packages (3.4.1)\n",
      "Requirement already satisfied: filelock in c:\\users\\ayush\\appdata\\local\\programs\\python\\python312\\lib\\site-packages (from datasets) (3.16.1)\n",
      "Requirement already satisfied: numpy>=1.17 in c:\\users\\ayush\\appdata\\local\\programs\\python\\python312\\lib\\site-packages (from datasets) (1.26.4)\n",
      "Requirement already satisfied: pyarrow>=15.0.0 in c:\\users\\ayush\\appdata\\local\\programs\\python\\python312\\lib\\site-packages (from datasets) (18.1.0)\n",
      "Requirement already satisfied: dill<0.3.9,>=0.3.0 in c:\\users\\ayush\\appdata\\local\\programs\\python\\python312\\lib\\site-packages (from datasets) (0.3.8)\n",
      "Requirement already satisfied: pandas in c:\\users\\ayush\\appdata\\local\\programs\\python\\python312\\lib\\site-packages (from datasets) (2.2.3)\n",
      "Requirement already satisfied: requests>=2.32.2 in c:\\users\\ayush\\appdata\\local\\programs\\python\\python312\\lib\\site-packages (from datasets) (2.32.3)\n",
      "Requirement already satisfied: tqdm>=4.66.3 in c:\\users\\ayush\\appdata\\local\\programs\\python\\python312\\lib\\site-packages (from datasets) (4.67.1)\n",
      "Requirement already satisfied: xxhash in c:\\users\\ayush\\appdata\\local\\programs\\python\\python312\\lib\\site-packages (from datasets) (3.5.0)\n",
      "Requirement already satisfied: multiprocess<0.70.17 in c:\\users\\ayush\\appdata\\local\\programs\\python\\python312\\lib\\site-packages (from datasets) (0.70.16)\n",
      "Requirement already satisfied: fsspec<=2024.12.0,>=2023.1.0 in c:\\users\\ayush\\appdata\\local\\programs\\python\\python312\\lib\\site-packages (from fsspec[http]<=2024.12.0,>=2023.1.0->datasets) (2024.10.0)\n",
      "Requirement already satisfied: aiohttp in c:\\users\\ayush\\appdata\\local\\programs\\python\\python312\\lib\\site-packages (from datasets) (3.11.10)\n",
      "Requirement already satisfied: huggingface-hub>=0.24.0 in c:\\users\\ayush\\appdata\\local\\programs\\python\\python312\\lib\\site-packages (from datasets) (0.26.5)\n",
      "Requirement already satisfied: packaging in c:\\users\\ayush\\appdata\\local\\programs\\python\\python312\\lib\\site-packages (from datasets) (24.1)\n",
      "Requirement already satisfied: pyyaml>=5.1 in c:\\users\\ayush\\appdata\\local\\programs\\python\\python312\\lib\\site-packages (from datasets) (6.0.2)\n",
      "Requirement already satisfied: aiohappyeyeballs>=2.3.0 in c:\\users\\ayush\\appdata\\local\\programs\\python\\python312\\lib\\site-packages (from aiohttp->datasets) (2.4.4)\n",
      "Requirement already satisfied: aiosignal>=1.1.2 in c:\\users\\ayush\\appdata\\local\\programs\\python\\python312\\lib\\site-packages (from aiohttp->datasets) (1.3.1)\n",
      "Requirement already satisfied: attrs>=17.3.0 in c:\\users\\ayush\\appdata\\local\\programs\\python\\python312\\lib\\site-packages (from aiohttp->datasets) (24.2.0)\n",
      "Requirement already satisfied: frozenlist>=1.1.1 in c:\\users\\ayush\\appdata\\local\\programs\\python\\python312\\lib\\site-packages (from aiohttp->datasets) (1.5.0)\n",
      "Requirement already satisfied: multidict<7.0,>=4.5 in c:\\users\\ayush\\appdata\\local\\programs\\python\\python312\\lib\\site-packages (from aiohttp->datasets) (6.1.0)\n",
      "Requirement already satisfied: propcache>=0.2.0 in c:\\users\\ayush\\appdata\\local\\programs\\python\\python312\\lib\\site-packages (from aiohttp->datasets) (0.2.1)\n",
      "Requirement already satisfied: yarl<2.0,>=1.17.0 in c:\\users\\ayush\\appdata\\local\\programs\\python\\python312\\lib\\site-packages (from aiohttp->datasets) (1.18.3)\n",
      "Requirement already satisfied: typing-extensions>=3.7.4.3 in c:\\users\\ayush\\appdata\\local\\programs\\python\\python312\\lib\\site-packages (from huggingface-hub>=0.24.0->datasets) (4.12.2)\n",
      "Requirement already satisfied: charset-normalizer<4,>=2 in c:\\users\\ayush\\appdata\\local\\programs\\python\\python312\\lib\\site-packages (from requests>=2.32.2->datasets) (3.4.0)\n",
      "Requirement already satisfied: idna<4,>=2.5 in c:\\users\\ayush\\appdata\\local\\programs\\python\\python312\\lib\\site-packages (from requests>=2.32.2->datasets) (3.10)\n",
      "Requirement already satisfied: urllib3<3,>=1.21.1 in c:\\users\\ayush\\appdata\\local\\programs\\python\\python312\\lib\\site-packages (from requests>=2.32.2->datasets) (2.2.3)\n",
      "Requirement already satisfied: certifi>=2017.4.17 in c:\\users\\ayush\\appdata\\local\\programs\\python\\python312\\lib\\site-packages (from requests>=2.32.2->datasets) (2024.8.30)\n",
      "Requirement already satisfied: colorama in c:\\users\\ayush\\appdata\\local\\programs\\python\\python312\\lib\\site-packages (from tqdm>=4.66.3->datasets) (0.4.6)\n",
      "Requirement already satisfied: python-dateutil>=2.8.2 in c:\\users\\ayush\\appdata\\local\\programs\\python\\python312\\lib\\site-packages (from pandas->datasets) (2.9.0.post0)\n",
      "Requirement already satisfied: pytz>=2020.1 in c:\\users\\ayush\\appdata\\local\\programs\\python\\python312\\lib\\site-packages (from pandas->datasets) (2024.2)\n",
      "Requirement already satisfied: tzdata>=2022.7 in c:\\users\\ayush\\appdata\\local\\programs\\python\\python312\\lib\\site-packages (from pandas->datasets) (2024.2)\n",
      "Requirement already satisfied: six>=1.5 in c:\\users\\ayush\\appdata\\local\\programs\\python\\python312\\lib\\site-packages (from python-dateutil>=2.8.2->pandas->datasets) (1.16.0)\n"
     ]
    },
    {
     "name": "stderr",
     "output_type": "stream",
     "text": [
      "\n",
      "[notice] A new release of pip is available: 24.2 -> 25.0.1\n",
      "[notice] To update, run: python.exe -m pip install --upgrade pip\n"
     ]
    }
   ],
   "source": [
    "!pip install datasets"
   ]
  },
  {
   "cell_type": "code",
   "execution_count": 11,
   "metadata": {},
   "outputs": [],
   "source": [
    "from datasets import load_dataset\n",
    "import pandas as pd\n",
    "import requests\n",
    "import re\n",
    "from tqdm import tqdm\n",
    "from pathlib import Path\n",
    "import matplotlib.pyplot as plt\n",
    "import seaborn as sns\n",
    "import numpy as np\n",
    "import json"
   ]
  },
  {
   "cell_type": "code",
   "execution_count": 12,
   "metadata": {},
   "outputs": [],
   "source": [
    "# Load the CodeSearchNet dataset (you can change the split as per your need)\n",
    "ds = load_dataset(\"code_search_net\", 'python', split='test', trust_remote_code=True)\n",
    "df = ds.to_pandas()"
   ]
  },
  {
   "cell_type": "code",
   "execution_count": 14,
   "metadata": {},
   "outputs": [
    {
     "name": "stdout",
     "output_type": "stream",
     "text": [
      "   repository_name                func_path_in_repository  \\\n",
      "0  soimort/you-get      src/you_get/extractors/youtube.py   \n",
      "1  soimort/you-get       src/you_get/extractors/miomio.py   \n",
      "2  soimort/you-get     src/you_get/extractors/fc2video.py   \n",
      "3  soimort/you-get     src/you_get/extractors/fc2video.py   \n",
      "4  soimort/you-get  src/you_get/extractors/dailymotion.py   \n",
      "\n",
      "                  func_name  \\\n",
      "0  YouTube.get_vid_from_url   \n",
      "1      sina_xml_to_url_list   \n",
      "2                  makeMimi   \n",
      "3         fc2video_download   \n",
      "4      dailymotion_download   \n",
      "\n",
      "                                   whole_func_string language  \\\n",
      "0  def get_vid_from_url(url):\\n        \"\"\"Extract...   python   \n",
      "1  def sina_xml_to_url_list(xml_data):\\n    \"\"\"st...   python   \n",
      "2  def makeMimi(upid):\\n    \"\"\"From http://cdn37....   python   \n",
      "3  def fc2video_download(url, output_dir = '.', m...   python   \n",
      "4  def dailymotion_download(url, output_dir='.', ...   python   \n",
      "\n",
      "                                    func_code_string  \\\n",
      "0  def get_vid_from_url(url):\\n        \"\"\"Extract...   \n",
      "1  def sina_xml_to_url_list(xml_data):\\n    \"\"\"st...   \n",
      "2  def makeMimi(upid):\\n    \"\"\"From http://cdn37....   \n",
      "3  def fc2video_download(url, output_dir = '.', m...   \n",
      "4  def dailymotion_download(url, output_dir='.', ...   \n",
      "\n",
      "                                    func_code_tokens  \\\n",
      "0  [def, get_vid_from_url, (, url, ), :, return, ...   \n",
      "1  [def, sina_xml_to_url_list, (, xml_data, ), :,...   \n",
      "2  [def, makeMimi, (, upid, ), :, strSeed, =, \"gG...   \n",
      "3  [def, fc2video_download, (, url, ,, output_dir...   \n",
      "4  [def, dailymotion_download, (, url, ,, output_...   \n",
      "\n",
      "                           func_documentation_string  \\\n",
      "0                        Extracts video ID from URL.   \n",
      "1  str->list\\n    Convert XML to URL List.\\n    F...   \n",
      "2  From http://cdn37.atwikiimg.com/sitescript/pub...   \n",
      "3                                            wrapper   \n",
      "4               Downloads Dailymotion videos by URL.   \n",
      "\n",
      "                           func_documentation_tokens split_name  \\\n",
      "0                [Extracts, video, ID, from, URL, .]       test   \n",
      "1  [str, -, >, list, Convert, XML, to, URL, List,...       test   \n",
      "2  [From, http, :, //, cdn37, ., atwikiimg, ., co...       test   \n",
      "3                                          [wrapper]       test   \n",
      "4       [Downloads, Dailymotion, videos, by, URL, .]       test   \n",
      "\n",
      "                                       func_code_url  \n",
      "0  https://github.com/soimort/you-get/blob/b746ac...  \n",
      "1  https://github.com/soimort/you-get/blob/b746ac...  \n",
      "2  https://github.com/soimort/you-get/blob/b746ac...  \n",
      "3  https://github.com/soimort/you-get/blob/b746ac...  \n",
      "4  https://github.com/soimort/you-get/blob/b746ac...  \n"
     ]
    }
   ],
   "source": [
    "#print(dataset)\n",
    "print(df.head())"
   ]
  },
  {
   "cell_type": "code",
   "execution_count": 15,
   "metadata": {},
   "outputs": [
    {
     "name": "stderr",
     "output_type": "stream",
     "text": [
      "<>:10: SyntaxWarning: invalid escape sequence '\\s'\n",
      "<>:10: SyntaxWarning: invalid escape sequence '\\s'\n",
      "C:\\Users\\ayush\\AppData\\Local\\Temp\\ipykernel_101332\\1294899574.py:10: SyntaxWarning: invalid escape sequence '\\s'\n",
      "  return re.sub('\\s+', ' ', summary)\n"
     ]
    }
   ],
   "source": [
    "# Clean docstring\n",
    "def extract_summary(docstring):\n",
    "    patterns_to_remove = [\n",
    "        r':param.*$', r':return.*$', r':type.*$', r':rtype.*$', r'Args:.*$', r'Parameters.*$', r'>>>.*$', \n",
    "        r'\\* .*$', r'The return type is.*$', r'https?://.*$', r':?Examples?.*$', r'Returns.*$', r'\\.\\.\\.?.*$', \n",
    "        r'NOTE.*', r'See Also.*$', r'Links.*$', r'Raises.*$', r'\\s\\w+:.*$',\n",
    "    ]\n",
    "    pattern = re.compile(r'({})'.format('|'.join(patterns_to_remove)), re.MULTILINE | re.DOTALL)\n",
    "    summary = pattern.sub('', docstring).strip()\n",
    "    return re.sub('\\s+', ' ', summary)"
   ]
  },
  {
   "cell_type": "code",
   "execution_count": 17,
   "metadata": {},
   "outputs": [
    {
     "name": "stdout",
     "output_type": "stream",
     "text": [
      "Index(['repository_name', 'func_path_in_repository', 'func_name',\n",
      "       'whole_func_string', 'language', 'func_code_string', 'func_code_tokens',\n",
      "       'func_documentation_string', 'func_documentation_tokens', 'split_name',\n",
      "       'func_code_url'],\n",
      "      dtype='object')\n"
     ]
    }
   ],
   "source": [
    "print(df.columns)"
   ]
  },
  {
   "cell_type": "code",
   "execution_count": 20,
   "metadata": {},
   "outputs": [
    {
     "name": "stderr",
     "output_type": "stream",
     "text": [
      "100%|██████████| 22176/22176 [00:00<00:00, 98147.06it/s]\n"
     ]
    }
   ],
   "source": [
    "from tqdm import tqdm\n",
    "tqdm.pandas() \n",
    "# Apply docstring cleaning\n",
    "df['method_summary'] = df['func_documentation_string'].progress_apply(extract_summary)"
   ]
  },
  {
   "cell_type": "code",
   "execution_count": 22,
   "metadata": {},
   "outputs": [
    {
     "name": "stdout",
     "output_type": "stream",
     "text": [
      "(18633, 12)\n"
     ]
    }
   ],
   "source": [
    "filtered_df = df[(10 < df['method_summary'].str.len()) & (df['method_summary'].str.len() < 200)]\n",
    "print(filtered_df.shape)"
   ]
  },
  {
   "cell_type": "code",
   "execution_count": 25,
   "metadata": {},
   "outputs": [],
   "source": [
    "grouped_df = filtered_df.groupby('repository_name')['method_summary'].count().reset_index(name='count')\n",
    "grouped_df = grouped_df[grouped_df['count'] > 50]"
   ]
  },
  {
   "cell_type": "code",
   "execution_count": 27,
   "metadata": {},
   "outputs": [],
   "source": [
    "best_repos = list(grouped_df['repository_name'])\n",
    "selected_df = filtered_df[filtered_df['repository_name'].isin(best_repos)]"
   ]
  },
  {
   "cell_type": "code",
   "execution_count": 28,
   "metadata": {},
   "outputs": [],
   "source": [
    "# Remove docstrings and comments from code\n",
    "def remove_docstrings(code):\n",
    "    docstrings = re.findall(r\"'''(.*?)'''\", code, re.DOTALL) + re.findall(r'\"\"\"(.*?)\"\"\"', code, re.DOTALL)\n",
    "    for docstring in docstrings:\n",
    "        code = code.replace(docstring, '')\n",
    "    return code"
   ]
  },
  {
   "cell_type": "code",
   "execution_count": 29,
   "metadata": {},
   "outputs": [],
   "source": [
    "def remove_comments(code):\n",
    "    pattern = r\"(\\\".*?\\\"|\\'.*?\\')|(#[^\\r\\n]*$)\"\n",
    "    regex = re.compile(pattern, re.MULTILINE | re.DOTALL)\n",
    "    def _replacer(match):\n",
    "        if match.group(2) is not None:\n",
    "            return \"\"  # remove comment\n",
    "        return match.group(1)  # keep string\n",
    "    return regex.sub(_replacer, code)"
   ]
  },
  {
   "cell_type": "code",
   "execution_count": 31,
   "metadata": {},
   "outputs": [
    {
     "name": "stdout",
     "output_type": "stream",
     "text": [
      "Index(['repository_name', 'func_path_in_repository', 'func_name',\n",
      "       'whole_func_string', 'language', 'func_code_string', 'func_code_tokens',\n",
      "       'func_documentation_string', 'func_documentation_tokens', 'split_name',\n",
      "       'func_code_url', 'method_summary'],\n",
      "      dtype='object')\n"
     ]
    }
   ],
   "source": [
    "print(selected_df.columns)"
   ]
  },
  {
   "cell_type": "code",
   "execution_count": 32,
   "metadata": {},
   "outputs": [
    {
     "name": "stderr",
     "output_type": "stream",
     "text": [
      "C:\\Users\\ayush\\AppData\\Local\\Temp\\ipykernel_101332\\3615263855.py:2: SettingWithCopyWarning: \n",
      "A value is trying to be set on a copy of a slice from a DataFrame.\n",
      "Try using .loc[row_indexer,col_indexer] = value instead\n",
      "\n",
      "See the caveats in the documentation: https://pandas.pydata.org/pandas-docs/stable/user_guide/indexing.html#returning-a-view-versus-a-copy\n",
      "  selected_df['method_code'] = selected_df['func_code_string'].apply(remove_docstrings)\n",
      "C:\\Users\\ayush\\AppData\\Local\\Temp\\ipykernel_101332\\3615263855.py:3: SettingWithCopyWarning: \n",
      "A value is trying to be set on a copy of a slice from a DataFrame.\n",
      "Try using .loc[row_indexer,col_indexer] = value instead\n",
      "\n",
      "See the caveats in the documentation: https://pandas.pydata.org/pandas-docs/stable/user_guide/indexing.html#returning-a-view-versus-a-copy\n",
      "  selected_df['method_code'] = selected_df['method_code'].apply(remove_comments)\n"
     ]
    }
   ],
   "source": [
    "# Apply removal of docstrings and comments\n",
    "selected_df['method_code'] = selected_df['func_code_string'].apply(remove_docstrings)\n",
    "selected_df['method_code'] = selected_df['method_code'].apply(remove_comments)"
   ]
  },
  {
   "cell_type": "code",
   "execution_count": 34,
   "metadata": {},
   "outputs": [],
   "source": [
    "final_df = selected_df[['repository_name', 'func_name', 'method_code', 'method_summary', 'whole_func_string', 'func_code_url']]\n",
    "final_df = final_df.rename(columns={\n",
    "    'repository_name': 'repo_name', \n",
    "    'func_name': 'method_name', \n",
    "    'whole_func_string': 'original_method_code', \n",
    "    'func_code_url': 'method_path'\n",
    "}).reset_index(drop=True)"
   ]
  },
  {
   "cell_type": "code",
   "execution_count": 35,
   "metadata": {},
   "outputs": [],
   "source": [
    "# Split into few-shot and evaluation datasets\n",
    "fewshot_df = final_df.groupby('repo_name').head(10).reset_index(drop=True)\n",
    "eval_df = final_df[~final_df.index.isin(fewshot_df.index)]"
   ]
  },
  {
   "cell_type": "code",
   "execution_count": 39,
   "metadata": {},
   "outputs": [],
   "source": [
    "# Save to JSONL files\n",
    "DATA_DIR = Path('data/preprocessed')\n",
    "eval_df.to_json(DATA_DIR / 'method-level-mcsn.jsonl', orient='records', lines=True)\n",
    "fewshot_df.to_json(DATA_DIR / 'method-level-mcsn-few-shot.jsonl', orient='records', lines=True)"
   ]
  },
  {
   "cell_type": "code",
   "execution_count": 40,
   "metadata": {},
   "outputs": [
    {
     "data": {
      "image/png": "[encoded data removed]",
      "text/plain": [
       "<Figure size 1000x600 with 1 Axes>"
      ]
     },
     "metadata": {},
     "output_type": "display_data"
    }
   ],
   "source": [
    "# EDA: Distribution of method summary lengths\n",
    "tdf = final_df.copy()\n",
    "tdf['method_summary_length'] = tdf['method_summary'].str.len()\n",
    "\n",
    "plt.figure(figsize=(10, 6))\n",
    "sns.histplot(data=tdf, x='method_summary_length', bins=100, kde=True, color='green')\n",
    "plt.xlabel('Length')\n",
    "plt.xticks(np.arange(0, 210, 10))\n",
    "plt.ylabel('Frequency')\n",
    "plt.show()"
   ]
  }
 ],
 "metadata": {
  "kernelspec": {
   "display_name": "Python 3",
   "language": "python",
   "name": "python3"
  },
  "language_info": {
   "codemirror_mode": {
    "name": "ipython",
    "version": 3
   },
   "file_extension": ".py",
   "mimetype": "text/x-python",
   "name": "python",
   "nbconvert_exporter": "python",
   "pygments_lexer": "ipython3",
   "version": "3.12.6"
  }
 },
 "nbformat": 4,
 "nbformat_minor": 2
}
